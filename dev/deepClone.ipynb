{
 "cells": [
  {
   "cell_type": "code",
   "execution_count": 3,
   "metadata": {},
   "outputs": [],
   "source": [
    "const deepCopy = (data: Data): MainData => {\n",
    "  return {\n",
    "    nodes: [...data.nodes].map((node) => ({\n",
    "      id: node.id as string,\n",
    "      children: node.children ? deepCopy(node.children as Data) : undefined,\n",
    "    })),\n",
    "    links: [...data.links].map((item) => ({\n",
    "      source: item.source as string,\n",
    "      target: item.target as string,\n",
    "    })),\n",
    "  };\n",
    "};\n"
   ]
  },
  {
   "cell_type": "code",
   "execution_count": 4,
   "metadata": {},
   "outputs": [
    {
     "name": "stdout",
     "output_type": "stream",
     "text": [
      "{\"nodes\":[{\"id\":\"2\",\"children\":{\"nodes\":[{\"id\":\"3\",\"children\":{\"nodes\":[{\"id\":\"4\",\"children\":{\"nodes\":[{\"id\":\"5\"}],\"links\":[]}}],\"links\":[]}}],\"links\":[{\"source\":\"2\",\"target\":\"3\"}]}}],\"links\":[]}\n"
     ]
    }
   ],
   "source": [
    "const data = {\n",
    "  nodes: [\n",
    "    {\n",
    "      id: \"2\",\n",
    "      title: \"This is 2\",\n",
    "      isChildren: false,\n",
    "      children: {\n",
    "        nodes: [\n",
    "          {\n",
    "            id: \"3\",\n",
    "            title: \"This is 3\",\n",
    "            isChildren: true,\n",
    "            children: {\n",
    "              nodes: [\n",
    "                {\n",
    "                  id: \"4\",\n",
    "                  isChildren: true,\n",
    "                  children: {\n",
    "                    nodes: [{ id: \"5\", isChildren: true }],\n",
    "                    links: [],\n",
    "                  },\n",
    "                },\n",
    "              ],\n",
    "              links: [],\n",
    "            },\n",
    "          },\n",
    "        ],\n",
    "        links: [\n",
    "          {\n",
    "            source: \"2\",\n",
    "            target: \"3\",\n",
    "            opacity: 0.5,\n",
    "            color: \"red\",\n",
    "            isChildren: true,\n",
    "          },\n",
    "        ],\n",
    "      },\n",
    "    },\n",
    "  ],\n",
    "  links: [],\n",
    "};\n",
    "\n",
    "console.log(JSON.stringify(deepCopy(data)));\n"
   ]
  }
 ],
 "metadata": {
  "kernelspec": {
   "display_name": "Deno",
   "language": "typescript",
   "name": "deno"
  },
  "language_info": {
   "codemirror_mode": "typescript",
   "file_extension": ".ts",
   "mimetype": "text/x.typescript",
   "name": "typescript",
   "nbconvert_exporter": "script",
   "pygments_lexer": "typescript",
   "version": "5.5.2"
  }
 },
 "nbformat": 4,
 "nbformat_minor": 2
}
